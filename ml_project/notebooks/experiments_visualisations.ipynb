{
 "cells": [
  {
   "cell_type": "code",
   "execution_count": null,
   "metadata": {},
   "outputs": [],
   "source": [
    "## Plot line plots for each activity class with\n",
    "## f1-scores against sample rate with fixed window size\n",
    "\n",
    "import matplotlib.pyplot as plt\n",
    "\n",
    "sample_rates = [5, 10, 20]\n",
    "\n",
    "fig = plt.figure()\n",
    "\n",
    "for algo in classes[0]:\n",
    "    plt.plot(sample_rates, classes[0][algo], label=algo)\n",
    "plt.xlabel('Sample rate')\n",
    "plt.ylabel('F1 score')\n",
    "plt.legend(loc='upper right')\n",
    "plt.xticks(ticks=[5,10,20])\n",
    "plt.show()"
   ]
  },
  {
   "cell_type": "code",
   "execution_count": null,
   "metadata": {},
   "outputs": [],
   "source": [
    "## Plot line plots for each activity class with\n",
    "## f1-scores against sample rate with fixed window size\n",
    "\n",
    "import matplotlib.pyplot as plt\n",
    "\n",
    "sample_rates = [5, 10, 20]\n",
    "\n",
    "fig = plt.figure()\n",
    "\n",
    "for algo in classes[0]:\n",
    "    plt.plot(sample_rates, classes[0][algo], label=algo)\n",
    "plt.xlabel('Sample rate')\n",
    "plt.ylabel('F1 score')\n",
    "plt.legend(loc='upper right')\n",
    "plt.xticks(ticks=[5,10,20])\n",
    "plt.show()"
   ]
  },
  {
   "cell_type": "code",
   "execution_count": null,
   "metadata": {},
   "outputs": [],
   "source": [
    "# fig, ax = plt.subplots(1, 4, sharex='col', sharey='row')\n",
    "\n",
    "# axes are in a two-dimensional array, indexed by [row, col]\n",
    "# for i in range(2):\n",
    "#     for j in range(3):\n",
    "#         ax[i, j].text(0.5, 0.5, str((i, j)),\n",
    "#                       fontsize=18, ha='center')\n",
    "# fig\n",
    "\n",
    "for activity in classes:\n",
    "    for algo in classes[activity]:\n",
    "        ax[activity].plot(sample_rates, classes[activity][algo], label=algo)\n",
    "\n",
    "# plt.xlabel('Sample rate')\n",
    "# plt.ylabel('F1 score')\n",
    "# plt.legend(loc='upper right')\n",
    "# plt.xticks(ticks=[5,10,20])\n",
    "# plt.show()\n",
    "fig"
   ]
  }
 ],
 "metadata": {
  "kernelspec": {
   "display_name": "venv",
   "language": "python",
   "name": "venv"
  },
  "language_info": {
   "codemirror_mode": {
    "name": "ipython",
    "version": 3
   },
   "file_extension": ".py",
   "mimetype": "text/x-python",
   "name": "python",
   "nbconvert_exporter": "python",
   "pygments_lexer": "ipython3",
   "version": "3.5.3"
  }
 },
 "nbformat": 4,
 "nbformat_minor": 2
}
